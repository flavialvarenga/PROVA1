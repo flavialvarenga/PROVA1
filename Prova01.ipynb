{
 "cells": [
  {
   "cell_type": "markdown",
   "id": "4bd89ffa-9354-4f2f-a4f2-7805f85db5e9",
   "metadata": {},
   "source": [
    "Implemente uma função que conte o número de elementos em uma **lista encadeada**. A função deve percorrer a lista e retornar o total de elementos.  \n",
    "\n",
    "**Especificações:**\n",
    "- A lista deve armazenar números inteiros.  \n",
    "- Implemente uma função que percorre a lista e conta quantos elementos estão inseridos.  \n",
    "- Leve em consideração a implementação fornecida a seguir."
   ]
  },
  {
   "cell_type": "code",
   "execution_count": 61,
   "id": "e12c4fd6-d5fd-4d47-8230-b02be91b78c5",
   "metadata": {},
   "outputs": [],
   "source": [
    "class No:\n",
    "    def __init__(self, valor):\n",
    "        self.valor = valor\n",
    "        self.proximo = None\n",
    "\n",
    "class ListaEncadeada:\n",
    "    def __init__(self):\n",
    "        self.inicio = None\n",
    "\n",
    "    def inserir(self, valor):\n",
    "        novo_no = No(valor)\n",
    "        if self.inicio is None:\n",
    "            self.inicio = novo_no\n",
    "        else:\n",
    "            atual = self.inicio\n",
    "            while atual.proximo:\n",
    "                atual = atual.proximo\n",
    "            atual.proximo = novo_no\n",
    "\n",
    "    def contar(self):\n",
    "        contar_numeros = 0\n",
    "        atual = self.inicio\n",
    "        while atual:\n",
    "            contar_numeros += 1\n",
    "            atual = atual.proximo\n",
    "        return contar_numeros\n",
    "        "
   ]
  },
  {
   "cell_type": "code",
   "execution_count": 62,
   "id": "edbacb6f-f465-4ba9-ab87-53aabf42b1d3",
   "metadata": {},
   "outputs": [
    {
     "name": "stdout",
     "output_type": "stream",
     "text": [
      " O número de elementos inseridos é de 3\n"
     ]
    }
   ],
   "source": [
    "# Inserindo números na lista encadeada:\n",
    "lista = ListaEncadeada()\n",
    "lista.inserir(5)\n",
    "lista.inserir(15)\n",
    "lista.inserir(25)\n",
    "\n",
    "# Contando o número de elementos:\n",
    "print(f\" O número de elementos inseridos é de {lista.contar()}\")"
   ]
  },
  {
   "cell_type": "code",
   "execution_count": null,
   "id": "70b4a46f-e715-4c6e-a22d-d54741cb16e7",
   "metadata": {},
   "outputs": [],
   "source": []
  }
 ],
 "metadata": {
  "kernelspec": {
   "display_name": "Python 3 (ipykernel)",
   "language": "python",
   "name": "python3"
  },
  "language_info": {
   "codemirror_mode": {
    "name": "ipython",
    "version": 3
   },
   "file_extension": ".py",
   "mimetype": "text/x-python",
   "name": "python",
   "nbconvert_exporter": "python",
   "pygments_lexer": "ipython3",
   "version": "3.13.5"
  }
 },
 "nbformat": 4,
 "nbformat_minor": 5
}
